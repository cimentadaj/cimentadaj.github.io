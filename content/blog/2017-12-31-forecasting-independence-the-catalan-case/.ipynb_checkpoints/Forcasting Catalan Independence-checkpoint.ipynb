{
 "cells": [
  {
   "cell_type": "code",
   "execution_count": 157,
   "metadata": {},
   "outputs": [],
   "source": [
    "import pandas as pd\n",
    "import requests\n",
    "from bs4 import BeautifulSoup\n",
    "import re"
   ]
  },
  {
   "cell_type": "code",
   "execution_count": 151,
   "metadata": {},
   "outputs": [],
   "source": [
    "# Scraping\n",
    "\n",
    "res = requests.get(\"https://en.wikipedia.org/wiki/Catalan_independence_movement\")\n",
    "text_res = res.text\n",
    "third_table = BeautifulSoup(text_res, \"lxml\").find_all(\"table\")[2]\n",
    "all_rows = third_table.find_all(\"tr\")\n",
    "\n",
    "# Grab column names\n",
    "column_names = ['date', 'independent', 'federal', 'autonomous', 'region', 'dnk', 'dnr']    \n",
    "\n",
    "# Remove the first row, as it's the column names, which are not stored in column_names\n",
    "all_rows.pop(0)\n",
    "cat_ind = pd.DataFrame(index=range(len(all_rows)), columns=column_names)\n",
    "\n",
    "# Loop through each row, grab the text and append to the data frame\n",
    "for every_row in range(len(all_rows)):\n",
    "    row = all_rows[every_row].find_all(\"td\")\n",
    "    read_row = [x.get_text() for x in row] # get the text from each td element and returna list\n",
    "    cat_ind.iloc[every_row] = read_row"
   ]
  },
  {
   "cell_type": "code",
   "execution_count": 159,
   "metadata": {},
   "outputs": [
    {
     "data": {
      "text/html": [
       "<div>\n",
       "<style scoped>\n",
       "    .dataframe tbody tr th:only-of-type {\n",
       "        vertical-align: middle;\n",
       "    }\n",
       "\n",
       "    .dataframe tbody tr th {\n",
       "        vertical-align: top;\n",
       "    }\n",
       "\n",
       "    .dataframe thead th {\n",
       "        text-align: right;\n",
       "    }\n",
       "</style>\n",
       "<table border=\"1\" class=\"dataframe\">\n",
       "  <thead>\n",
       "    <tr style=\"text-align: right;\">\n",
       "      <th></th>\n",
       "      <th>date</th>\n",
       "      <th>independent</th>\n",
       "      <th>federal</th>\n",
       "      <th>autonomous</th>\n",
       "      <th>region</th>\n",
       "      <th>dnk</th>\n",
       "      <th>dnr</th>\n",
       "    </tr>\n",
       "  </thead>\n",
       "  <tbody>\n",
       "    <tr>\n",
       "      <th>38</th>\n",
       "      <td>2016 3rd series[159]</td>\n",
       "      <td>38.9</td>\n",
       "      <td>23.2</td>\n",
       "      <td>24.1</td>\n",
       "      <td>5.7</td>\n",
       "      <td>N/A</td>\n",
       "      <td>N/A</td>\n",
       "    </tr>\n",
       "    <tr>\n",
       "      <th>39</th>\n",
       "      <td>2016 4th series[160]</td>\n",
       "      <td>36.1</td>\n",
       "      <td>29.2</td>\n",
       "      <td>23.6</td>\n",
       "      <td>4.5</td>\n",
       "      <td>3.4</td>\n",
       "      <td>3.2</td>\n",
       "    </tr>\n",
       "    <tr>\n",
       "      <th>40</th>\n",
       "      <td>2017 1st series[137]</td>\n",
       "      <td>37.3</td>\n",
       "      <td>21.7</td>\n",
       "      <td>28.5</td>\n",
       "      <td>7.0</td>\n",
       "      <td>3.8</td>\n",
       "      <td>1.8</td>\n",
       "    </tr>\n",
       "    <tr>\n",
       "      <th>41</th>\n",
       "      <td>2017 2nd series[138]</td>\n",
       "      <td>34.7</td>\n",
       "      <td>21.7</td>\n",
       "      <td>30.5</td>\n",
       "      <td>5.3</td>\n",
       "      <td>6.1</td>\n",
       "      <td>1.7</td>\n",
       "    </tr>\n",
       "    <tr>\n",
       "      <th>42</th>\n",
       "      <td>2017 3rd series[139]</td>\n",
       "      <td>40.2</td>\n",
       "      <td>21.9</td>\n",
       "      <td>27.4</td>\n",
       "      <td>4.6</td>\n",
       "      <td>4.7</td>\n",
       "      <td>1.2</td>\n",
       "    </tr>\n",
       "  </tbody>\n",
       "</table>\n",
       "</div>"
      ],
      "text/plain": [
       "                    date independent federal autonomous region  dnk  dnr\n",
       "38  2016 3rd series[159]        38.9    23.2       24.1    5.7  N/A  N/A\n",
       "39  2016 4th series[160]        36.1    29.2       23.6    4.5  3.4  3.2\n",
       "40  2017 1st series[137]        37.3    21.7       28.5    7.0  3.8  1.8\n",
       "41  2017 2nd series[138]        34.7    21.7       30.5    5.3  6.1  1.7\n",
       "42  2017 3rd series[139]        40.2    21.9       27.4    4.6  4.7  1.2"
      ]
     },
     "execution_count": 159,
     "metadata": {},
     "output_type": "execute_result"
    }
   ],
   "source": [
    "cat_ind.tail()"
   ]
  },
  {
   "cell_type": "code",
   "execution_count": 161,
   "metadata": {},
   "outputs": [
    {
     "data": {
      "text/plain": [
       "'2017 3rd series'"
      ]
     },
     "execution_count": 161,
     "metadata": {},
     "output_type": "execute_result"
    }
   ],
   "source": [
    "re.sub(\"\\[[0-9]{3,}\\]\", \"\", \"2017 3rd series[139]\")"
   ]
  }
 ],
 "metadata": {
  "kernelspec": {
   "display_name": "Python 3",
   "language": "python",
   "name": "python3"
  },
  "language_info": {
   "codemirror_mode": {
    "name": "ipython",
    "version": 3
   },
   "file_extension": ".py",
   "mimetype": "text/x-python",
   "name": "python",
   "nbconvert_exporter": "python",
   "pygments_lexer": "ipython3",
   "version": "3.6.4"
  }
 },
 "nbformat": 4,
 "nbformat_minor": 2
}
